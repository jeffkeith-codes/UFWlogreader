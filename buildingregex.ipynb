{
 "cells": [
  {
   "cell_type": "markdown",
   "id": "ede44d98",
   "metadata": {},
   "source": [
    "# Analyze the UFW log\n",
    "\n",
    "## Part 1\n",
    "a and b are example lines from the ufw log file. the main difference is the whitespace in the cpu uptime field"
   ]
  },
  {
   "cell_type": "code",
   "execution_count": 2,
   "id": "62759127",
   "metadata": {},
   "outputs": [],
   "source": [
    "a = \"\"\"Aug  1 00:00:55 jupiter kernel: [156505.664718] [UFW BLOCK] IN=wlp6s0 OUT= MAC=01:00:5e:00:00:fb:00:80:92:9c:02:06:08:00 SRC=192.168.1.3 DST=224.0.0.251 LEN=32 TOS=0x0C PREC=0x20 TTL=1 ID=31272 PROTO=2 \n",
    "\"\"\"\n",
    "b = \"\"\"Aug 12 04:07:15 jupiter kernel: [   87.722287] [UFW BLOCK] IN=wlp6s0 OUT= MAC=2c:fd:a1:60:e5:d5:00:80:92:9c:02:06:08:00 SRC=192.168.1.3 DST=192.168.1.10 LEN=1285 TOS=0x00 PREC=0x00 TTL=64 ID=19681 PROTO=UDP SPT=3702 DPT=36175 LEN=1265 \"\"\""
   ]
  },
  {
   "cell_type": "code",
   "execution_count": 3,
   "id": "5294de9e",
   "metadata": {},
   "outputs": [],
   "source": [
    "import re"
   ]
  },
  {
   "cell_type": "code",
   "execution_count": 4,
   "id": "5d5eb4e1",
   "metadata": {},
   "outputs": [],
   "source": [
    "p = re.compile(r\"\"\"(Jan|Feb|Mar|Apr|May|Jun|Jul|Aug|Sep|Oct|Nov|Dec)\\s+\n",
    "        (\\d{1,2})\\s+ \n",
    "        (\\d{2}:\\d{2}:\\d{2})\\s+  # timestamp\n",
    "        (jupiter|otherhost)\\s+  # hostname\n",
    "        kernel:\\s+ \n",
    "        (\\[\\s*\\d+.\\d+])\\s+         # cputime\n",
    "        \\[UFW\\s(BLOCK|ALLOW|LOG)\\]\\s+           # ufw block or allow\n",
    "        (.+)                    # rest of line\n",
    "        \"\"\", re.VERBOSE)\n",
    "m = p.match(a)"
   ]
  },
  {
   "cell_type": "code",
   "execution_count": 5,
   "id": "c3050840",
   "metadata": {},
   "outputs": [
    {
     "data": {
      "text/plain": [
       "('Aug',\n",
       " '1',\n",
       " '00:00:55',\n",
       " 'jupiter',\n",
       " '[156505.664718]',\n",
       " 'BLOCK',\n",
       " 'IN=wlp6s0 OUT= MAC=01:00:5e:00:00:fb:00:80:92:9c:02:06:08:00 SRC=192.168.1.3 DST=224.0.0.251 LEN=32 TOS=0x0C PREC=0x20 TTL=1 ID=31272 PROTO=2 ')"
      ]
     },
     "execution_count": 5,
     "metadata": {},
     "output_type": "execute_result"
    }
   ],
   "source": [
    "m.groups()"
   ]
  },
  {
   "cell_type": "code",
   "execution_count": 6,
   "id": "a8e5755d",
   "metadata": {},
   "outputs": [
    {
     "data": {
      "text/plain": [
       "('Aug',\n",
       " '12',\n",
       " '04:07:15',\n",
       " 'jupiter',\n",
       " '[   87.722287]',\n",
       " 'BLOCK',\n",
       " 'IN=wlp6s0 OUT= MAC=2c:fd:a1:60:e5:d5:00:80:92:9c:02:06:08:00 SRC=192.168.1.3 DST=192.168.1.10 LEN=1285 TOS=0x00 PREC=0x00 TTL=64 ID=19681 PROTO=UDP SPT=3702 DPT=36175 LEN=1265 ')"
      ]
     },
     "execution_count": 6,
     "metadata": {},
     "output_type": "execute_result"
    }
   ],
   "source": [
    "m2 = p.match(b)\n",
    "m2.groups()"
   ]
  },
  {
   "cell_type": "markdown",
   "id": "5c9db743",
   "metadata": {},
   "source": [
    "Simpler regex that splits the line into 3 parts: \n",
    "1. the timestamp text\n",
    "2. block/allow/log indicator\n",
    "3. the rest of the log entry with the packet details"
   ]
  },
  {
   "cell_type": "code",
   "execution_count": 23,
   "id": "a6e5f9d9",
   "metadata": {},
   "outputs": [],
   "source": [
    "p2 = re.compile(r\"\"\"\n",
    "        (.+)\n",
    "        \\[UFW\\s(BLOCK|ALLOW|LOG)\\]\\s\n",
    "        (.+)\n",
    "        \"\"\", re.VERBOSE)\n",
    "n = p2.match(a)\n",
    "n2 = p2.match(b)"
   ]
  },
  {
   "cell_type": "code",
   "execution_count": 27,
   "id": "35f6304e",
   "metadata": {},
   "outputs": [
    {
     "data": {
      "text/plain": [
       "('Aug  1 00:00:55 jupiter kernel: [156505.664718] ',\n",
       " 'BLOCK',\n",
       " 'IN=wlp6s0 OUT= MAC=01:00:5e:00:00:fb:00:80:92:9c:02:06:08:00 SRC=192.168.1.3 DST=224.0.0.251 LEN=32 TOS=0x0C PREC=0x20 TTL=1 ID=31272 PROTO=2 ')"
      ]
     },
     "execution_count": 27,
     "metadata": {},
     "output_type": "execute_result"
    }
   ],
   "source": [
    "n.groups()"
   ]
  },
  {
   "cell_type": "code",
   "execution_count": 26,
   "id": "57f391a3",
   "metadata": {},
   "outputs": [
    {
     "data": {
      "text/plain": [
       "('Aug 12 04:07:15 jupiter kernel: [   87.722287] ',\n",
       " 'BLOCK',\n",
       " 'IN=wlp6s0 OUT= MAC=2c:fd:a1:60:e5:d5:00:80:92:9c:02:06:08:00 SRC=192.168.1.3 DST=192.168.1.10 LEN=1285 TOS=0x00 PREC=0x00 TTL=64 ID=19681 PROTO=UDP SPT=3702 DPT=36175 LEN=1265 ')"
      ]
     },
     "execution_count": 26,
     "metadata": {},
     "output_type": "execute_result"
    }
   ],
   "source": [
    "n2.groups()"
   ]
  },
  {
   "cell_type": "code",
   "execution_count": 9,
   "id": "3c0994d3",
   "metadata": {},
   "outputs": [
    {
     "name": "stdout",
     "output_type": "stream",
     "text": [
      "There are  3  items in n\n"
     ]
    }
   ],
   "source": [
    "print('There are ', len(n.groups()), ' items in n')"
   ]
  },
  {
   "cell_type": "code",
   "execution_count": 31,
   "id": "0d9f388c",
   "metadata": {},
   "outputs": [
    {
     "name": "stdout",
     "output_type": "stream",
     "text": [
      "item \"1\" is \"Aug  1 00:00:55 jupiter kernel: [156505.664718] \"\n",
      "item \"2\" is \"BLOCK\"\n",
      "item \"3\" is \"IN=wlp6s0 OUT= MAC=01:00:5e:00:00:fb:00:80:92:9c:02:06:08:00 SRC=192.168.1.3 DST=224.0.0.251 LEN=32 TOS=0x0C PREC=0x20 TTL=1 ID=31272 PROTO=2 \"\n"
     ]
    }
   ],
   "source": [
    "i = 1\n",
    "for item in n.groups():\n",
    "    print(f'item \"{i}\" is \"{n.group(i)}\"')\n",
    "    i += 1"
   ]
  },
  {
   "cell_type": "code",
   "execution_count": 11,
   "id": "20c3c599",
   "metadata": {},
   "outputs": [],
   "source": [
    "date_re = re.compile(r\"\"\"\n",
    "                    (Jan|Feb|Mar|Apr|May|Jun|Jul|Aug|Sep|Oct|Nov|Dec) # month\n",
    "                    \\s+\n",
    "                    (\\d+) # day\n",
    "                    \\s+\n",
    "                    (\\d{2}:\\d{2}:\\d{2}) # time\n",
    "                    \\s+\n",
    "                    (\\w+) # hostname\n",
    "                    \\s+\n",
    "                    \\w+\\: # message source (discard)\n",
    "                    \\s+\n",
    "                    (\\[\\s*\\d+.\\d+\\]) # cpu uptime\n",
    "                    \\s*.*\n",
    "                    \"\"\", flags=re.VERBOSE)\n"
   ]
  },
  {
   "cell_type": "code",
   "execution_count": 32,
   "id": "fdb706c5",
   "metadata": {},
   "outputs": [
    {
     "name": "stdout",
     "output_type": "stream",
     "text": [
      "result is not none\n",
      "*Aug 1 00:00:55 [156505.664718] *\n"
     ]
    }
   ],
   "source": [
    "result = date_re.match(n.group(1))\n",
    "\n",
    "# there should be 5 fields, month, day, time, hostname, cpu uptime\n",
    "# if result in null, the regex didn't match\n",
    "\n",
    "if result and len(result.groups()) == 5 : \n",
    "    timestamp = ''\n",
    "    print('result is not none')\n",
    "    i = 1\n",
    "    for x in result.groups(): \n",
    "        if i != 4: # we don't want the hostname\n",
    "            timestamp += '{} '.format(x)\n",
    "        i += 1\n",
    "else:\n",
    "    print('result is none')\n",
    "\n",
    "print(f'*{timestamp}*')"
   ]
  },
  {
   "cell_type": "markdown",
   "id": "2b5bc9da",
   "metadata": {},
   "source": [
    "## Part 2\n",
    "\n",
    "Now get into the details of what was blocked. Fields are generally defined as key=value, separated by whitespace. There are also flags listed on lines that do not have a key=value format. \n",
    "\n",
    "Start with a split on whitespace"
   ]
  },
  {
   "cell_type": "code",
   "execution_count": 13,
   "id": "53fcf779",
   "metadata": {},
   "outputs": [],
   "source": [
    "c = \"\"\"Aug  1 00:02:51 jupiter kernel: [156621.587697] [UFW BLOCK] IN=wlp6s0 OUT= MAC=01:00:5e:00:00:01:6c:b0:ce:be:5e:33:08:00 SRC=0.0.0.0 DST=224.0.0.1 LEN=32 TOS=0x00 PREC=0xC0 TTL=1 ID=0 DF PROTO=2\"\"\""
   ]
  },
  {
   "cell_type": "code",
   "execution_count": 14,
   "id": "1348472d",
   "metadata": {},
   "outputs": [],
   "source": [
    "m3 = p.match(c) "
   ]
  },
  {
   "cell_type": "code",
   "execution_count": 15,
   "id": "2b5728ae",
   "metadata": {},
   "outputs": [
    {
     "data": {
      "text/plain": [
       "<re.Match object; span=(0, 194), match='Aug  1 00:02:51 jupiter kernel: [156621.587697] [>"
      ]
     },
     "execution_count": 15,
     "metadata": {},
     "output_type": "execute_result"
    }
   ],
   "source": [
    "m3"
   ]
  },
  {
   "cell_type": "code",
   "execution_count": 16,
   "id": "841cd590",
   "metadata": {},
   "outputs": [
    {
     "data": {
      "text/plain": [
       "('Aug',\n",
       " '1',\n",
       " '00:02:51',\n",
       " 'jupiter',\n",
       " '[156621.587697]',\n",
       " 'BLOCK',\n",
       " 'IN=wlp6s0 OUT= MAC=01:00:5e:00:00:01:6c:b0:ce:be:5e:33:08:00 SRC=0.0.0.0 DST=224.0.0.1 LEN=32 TOS=0x00 PREC=0xC0 TTL=1 ID=0 DF PROTO=2')"
      ]
     },
     "execution_count": 16,
     "metadata": {},
     "output_type": "execute_result"
    }
   ],
   "source": [
    "m3.groups()"
   ]
  },
  {
   "cell_type": "code",
   "execution_count": 17,
   "id": "94aeef51",
   "metadata": {},
   "outputs": [
    {
     "data": {
      "text/plain": [
       "'IN=wlp6s0 OUT= MAC=01:00:5e:00:00:01:6c:b0:ce:be:5e:33:08:00 SRC=0.0.0.0 DST=224.0.0.1 LEN=32 TOS=0x00 PREC=0xC0 TTL=1 ID=0 DF PROTO=2'"
      ]
     },
     "execution_count": 17,
     "metadata": {},
     "output_type": "execute_result"
    }
   ],
   "source": [
    "m3.group(7)"
   ]
  },
  {
   "cell_type": "code",
   "execution_count": 18,
   "id": "720ce327",
   "metadata": {},
   "outputs": [
    {
     "data": {
      "text/plain": [
       "['IN=wlp6s0',\n",
       " 'OUT=',\n",
       " 'MAC=01:00:5e:00:00:01:6c:b0:ce:be:5e:33:08:00',\n",
       " 'SRC=0.0.0.0',\n",
       " 'DST=224.0.0.1',\n",
       " 'LEN=32',\n",
       " 'TOS=0x00',\n",
       " 'PREC=0xC0',\n",
       " 'TTL=1',\n",
       " 'ID=0',\n",
       " 'DF',\n",
       " 'PROTO=2']"
      ]
     },
     "execution_count": 18,
     "metadata": {},
     "output_type": "execute_result"
    }
   ],
   "source": [
    "m3.group(7).split()"
   ]
  },
  {
   "cell_type": "markdown",
   "id": "f2779121",
   "metadata": {},
   "source": [
    "### Breakdown:\n",
    "There are 3 different patterns to the values in the rest of the line: \n",
    "1. KEY=value\n",
    "2. KEY=(nothing)\n",
    "3. FLAG\n"
   ]
  },
  {
   "cell_type": "code",
   "execution_count": 19,
   "id": "00e16040",
   "metadata": {},
   "outputs": [
    {
     "name": "stdout",
     "output_type": "stream",
     "text": [
      "type 1 entry, a key/value pair:  IN=wlp6s0\n",
      "type 2 entry, a key without a value:  OUT=\n",
      "type 1 entry, a key/value pair:  MAC=01:00:5e:00:00:01:6c:b0:ce:be:5e:33:08:00\n",
      "type 1 entry, a key/value pair:  SRC=0.0.0.0\n",
      "type 1 entry, a key/value pair:  DST=224.0.0.1\n",
      "type 1 entry, a key/value pair:  LEN=32\n",
      "type 1 entry, a key/value pair:  TOS=0x00\n",
      "type 1 entry, a key/value pair:  PREC=0xC0\n",
      "type 1 entry, a key/value pair:  TTL=1\n",
      "type 1 entry, a key/value pair:  ID=0\n",
      "type 3 entry, a flags entry:  DF\n",
      "type 1 entry, a key/value pair:  PROTO=2\n"
     ]
    }
   ],
   "source": [
    "for x in m3.group(7).split(): \n",
    "    \n",
    "    if re.match('\\w+=.+', x):  # best case - a key and value pair\n",
    "        print('type 1 entry, a key/value pair: ', x)\n",
    "    elif re.match('\\w+=', x): # don't store these since there's no value\n",
    "        print('type 2 entry, a key without a value: ', x)\n",
    "    elif re.match('\\w+', x): # concatenate these into a flags field\n",
    "        print('type 3 entry, a flags entry: ', x)\n",
    "    else: \n",
    "        print('no match: ', x)\n",
    "        "
   ]
  },
  {
   "cell_type": "code",
   "execution_count": null,
   "id": "40d5f0eb",
   "metadata": {},
   "outputs": [],
   "source": []
  }
 ],
 "metadata": {
  "kernelspec": {
   "display_name": "Python 3 (ipykernel)",
   "language": "python",
   "name": "python3"
  },
  "language_info": {
   "codemirror_mode": {
    "name": "ipython",
    "version": 3
   },
   "file_extension": ".py",
   "mimetype": "text/x-python",
   "name": "python",
   "nbconvert_exporter": "python",
   "pygments_lexer": "ipython3",
   "version": "3.8.11"
  }
 },
 "nbformat": 4,
 "nbformat_minor": 5
}
